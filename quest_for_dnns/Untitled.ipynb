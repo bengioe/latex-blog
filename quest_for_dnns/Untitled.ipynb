{
 "cells": [
  {
   "cell_type": "code",
   "execution_count": 2,
   "metadata": {},
   "outputs": [],
   "source": [
    "import regions_code.tools as tools\n",
    "import tensorflow as tf\n",
    "import numpy as np"
   ]
  },
  {
   "cell_type": "code",
   "execution_count": 63,
   "metadata": {},
   "outputs": [],
   "source": [
    "\n",
    "X_train = np.random.random((100, 2))\n",
    "Y_train = np.random.randint(0, 10, (100,))\n",
    "X_test = np.random.random((100, 2))\n",
    "Y_test = np.random.randint(0, 10, (100,))\n",
    "\n",
    "network = [8, 4, 4]\n",
    "\n",
    "input_placeholder = tf.placeholder(tf.float32, (None, 2))\n",
    "output_placeholder = tf.placeholder(tf.int64, (None,))\n",
    "\n",
    "tf.reset_default_graph()\n",
    "input_placeholder = tf.placeholder(tf.float32, (None, X_train.shape[1]))\n",
    "output_placeholder = tf.placeholder(tf.int64, (None,))\n",
    "preacts = []\n",
    "relu = input_placeholder\n",
    "for width in network:\n",
    "    dense_layer = tf.layers.dense(relu, width, activation=None, use_bias=True)#,\n",
    "                                  #kernel_initializer=weight_initializer,\n",
    "                                  #bias_initializer=bias_initializer(BIAS_STD))\n",
    "    preacts.append(dense_layer)\n",
    "    relu = tf.nn.relu(dense_layer)\n",
    "output_layer = tf.layers.dense(relu, 10, activation=None, use_bias=True)#, kernel_initializer=weight_initializer,\n",
    "                               #bias_initializer=bias_initializer(BIAS_STD))\n",
    "#loss = tf.losses.sparse_softmax_cross_entropy(output_placeholder, output_layer)\n",
    "#correct = tf.equal(output_placeholder, tf.argmax(tf.nn.softmax(output_layer), axis=-1))\n",
    "#acc = 100 * tf.reduce_mean(tf.cast(correct, tf.float32))\n",
    "#train_op = tf.train.AdamOptimizer(LR).minimize(loss)\n",
    "relu_states = [tf.greater(preact, tf.zeros_like(preact)) for preact in preacts]\n",
    "weights = [w for w in tf.get_collection(tf.GraphKeys.TRAINABLE_VARIABLES) if w.name.endswith('kernel:0')]\n",
    "biases = [b for b in tf.get_collection(tf.GraphKeys.TRAINABLE_VARIABLES) if b.name.endswith('bias:0')]\n",
    "\n",
    "fn_weight, fn_bias, _, _ = tools.get_sample_plane2(X_train, Y_train)\n",
    "#fn_weight = np.array([[-1, 1], [1, 1]])\n",
    "#fn_bias = np.array([0,0])\n",
    "\n",
    "with tf.Session() as sess:\n",
    "    sess.run(tf.global_variables_initializer())\n",
    "    [the_weights, the_biases] = sess.run([weights, biases],\n",
    "                                         feed_dict={input_placeholder: X_test, output_placeholder: Y_test})\n",
    "    regions = tools.count_regions_2d_2(the_weights[:-1], the_biases[:-1], the_weights[-1], the_biases[-1],\n",
    "                            fn_weight, fn_bias, return_regions=True)"
   ]
  },
  {
   "cell_type": "code",
   "execution_count": 64,
   "metadata": {},
   "outputs": [
    {
     "data": {
      "text/plain": [
       "array([[ 0.14597818,  0.97069731,  0.07090913],\n",
       "       [ 0.96973766, -0.15117498,  0.07311626]])"
      ]
     },
     "execution_count": 64,
     "metadata": {},
     "output_type": "execute_result"
    }
   ],
   "source": [
    "fn_weight"
   ]
  },
  {
   "cell_type": "code",
   "execution_count": 65,
   "metadata": {},
   "outputs": [
    {
     "data": {
      "text/plain": [
       "array([[-0.06720781,  0.41852266,  0.2967103 , -0.1021018 ,  0.1349001 ,\n",
       "        -0.04352015, -0.0028277 , -0.46576592],\n",
       "       [ 0.42745048,  0.7124415 ,  0.5401823 , -0.32639456,  0.51899487,\n",
       "         0.38758403,  0.52238685,  0.2118091 ],\n",
       "       [-0.0401665 ,  0.33670527, -0.00089818, -0.62351024, -0.01536155,\n",
       "        -0.04409158, -0.6974813 , -0.38483623]], dtype=float32)"
      ]
     },
     "execution_count": 65,
     "metadata": {},
     "output_type": "execute_result"
    }
   ],
   "source": [
    "the_weights[0]"
   ]
  },
  {
   "cell_type": "code",
   "execution_count": 3,
   "metadata": {
    "scrolled": false
   },
   "outputs": [
    {
     "ename": "NameError",
     "evalue": "name 'calculate_polygon_centroid' is not defined",
     "output_type": "error",
     "traceback": [
      "\u001b[0;31m---------------------------------------------------------------------------\u001b[0m",
      "\u001b[0;31mNameError\u001b[0m                                 Traceback (most recent call last)",
      "\u001b[0;32m<ipython-input-3-ff50f9bed529>\u001b[0m in \u001b[0;36m<module>\u001b[0;34m()\u001b[0m\n\u001b[1;32m     31\u001b[0m     \u001b[0mnew_regions\u001b[0m \u001b[0;34m=\u001b[0m \u001b[0;34m[\u001b[0m\u001b[0;34m]\u001b[0m\u001b[0;34m\u001b[0m\u001b[0m\n\u001b[1;32m     32\u001b[0m     centroids = np.array([calculate_polygon_centroid(r.vertices)\n\u001b[0;32m---> 33\u001b[0;31m                           for r in regions])\n\u001b[0m\u001b[1;32m     34\u001b[0m     \u001b[0;32mif\u001b[0m \u001b[0mlast_centroids\u001b[0m \u001b[0;32mis\u001b[0m \u001b[0;32mnot\u001b[0m \u001b[0;32mNone\u001b[0m\u001b[0;34m:\u001b[0m\u001b[0;34m\u001b[0m\u001b[0m\n\u001b[1;32m     35\u001b[0m         \u001b[0mdists\u001b[0m \u001b[0;34m=\u001b[0m \u001b[0;34m(\u001b[0m\u001b[0;34m(\u001b[0m\u001b[0mcentroids\u001b[0m\u001b[0;34m[\u001b[0m\u001b[0;34m:\u001b[0m\u001b[0;34m,\u001b[0m \u001b[0;34m:\u001b[0m\u001b[0;34m,\u001b[0m \u001b[0;32mNone\u001b[0m\u001b[0;34m]\u001b[0m \u001b[0;34m-\u001b[0m \u001b[0mlast_centroids\u001b[0m\u001b[0;34m.\u001b[0m\u001b[0mT\u001b[0m\u001b[0;34m[\u001b[0m\u001b[0;32mNone\u001b[0m\u001b[0;34m,\u001b[0m \u001b[0;34m:\u001b[0m\u001b[0;34m,\u001b[0m \u001b[0;34m:\u001b[0m\u001b[0;34m]\u001b[0m\u001b[0;34m)\u001b[0m\u001b[0;34m**\u001b[0m\u001b[0;36m2\u001b[0m\u001b[0;34m)\u001b[0m\u001b[0;34m.\u001b[0m\u001b[0msum\u001b[0m\u001b[0;34m(\u001b[0m\u001b[0;36m1\u001b[0m\u001b[0;34m)\u001b[0m\u001b[0;34m\u001b[0m\u001b[0m\n",
      "\u001b[0;32m<ipython-input-3-ff50f9bed529>\u001b[0m in \u001b[0;36m<listcomp>\u001b[0;34m(.0)\u001b[0m\n\u001b[1;32m     31\u001b[0m     \u001b[0mnew_regions\u001b[0m \u001b[0;34m=\u001b[0m \u001b[0;34m[\u001b[0m\u001b[0;34m]\u001b[0m\u001b[0;34m\u001b[0m\u001b[0m\n\u001b[1;32m     32\u001b[0m     centroids = np.array([calculate_polygon_centroid(r.vertices)\n\u001b[0;32m---> 33\u001b[0;31m                           for r in regions])\n\u001b[0m\u001b[1;32m     34\u001b[0m     \u001b[0;32mif\u001b[0m \u001b[0mlast_centroids\u001b[0m \u001b[0;32mis\u001b[0m \u001b[0;32mnot\u001b[0m \u001b[0;32mNone\u001b[0m\u001b[0;34m:\u001b[0m\u001b[0;34m\u001b[0m\u001b[0m\n\u001b[1;32m     35\u001b[0m         \u001b[0mdists\u001b[0m \u001b[0;34m=\u001b[0m \u001b[0;34m(\u001b[0m\u001b[0;34m(\u001b[0m\u001b[0mcentroids\u001b[0m\u001b[0;34m[\u001b[0m\u001b[0;34m:\u001b[0m\u001b[0;34m,\u001b[0m \u001b[0;34m:\u001b[0m\u001b[0;34m,\u001b[0m \u001b[0;32mNone\u001b[0m\u001b[0;34m]\u001b[0m \u001b[0;34m-\u001b[0m \u001b[0mlast_centroids\u001b[0m\u001b[0;34m.\u001b[0m\u001b[0mT\u001b[0m\u001b[0;34m[\u001b[0m\u001b[0;32mNone\u001b[0m\u001b[0;34m,\u001b[0m \u001b[0;34m:\u001b[0m\u001b[0;34m,\u001b[0m \u001b[0;34m:\u001b[0m\u001b[0;34m]\u001b[0m\u001b[0;34m)\u001b[0m\u001b[0;34m**\u001b[0m\u001b[0;36m2\u001b[0m\u001b[0;34m)\u001b[0m\u001b[0;34m.\u001b[0m\u001b[0msum\u001b[0m\u001b[0;34m(\u001b[0m\u001b[0;36m1\u001b[0m\u001b[0;34m)\u001b[0m\u001b[0;34m\u001b[0m\u001b[0m\n",
      "\u001b[0;31mNameError\u001b[0m: name 'calculate_polygon_centroid' is not defined"
     ]
    }
   ],
   "source": [
    "import matplotlib.pyplot as pp\n",
    "import matplotlib.cm as cm\n",
    "fn_weight = np.array(([-1,1], [1,1]))\n",
    "fn_bias = np.array([0,0])\n",
    "sizes = [2, 4, 4, 4, 4]\n",
    "\n",
    "last_regions = []\n",
    "last_centroids = None\n",
    "\n",
    "rng2 = np.random.default_rng(43)\n",
    "\n",
    "export = []\n",
    "\n",
    "N = 120\n",
    "space = np.linspace(0, 0.0009, N)\n",
    "\n",
    "for i in range(N):\n",
    "\n",
    "    rng = np.random.default_rng(42)\n",
    "    cmap = cm.brg\n",
    "\n",
    "    the_weights = [rng.uniform(-0.1,0.1, (a,b))\n",
    "                   for a,b in zip(sizes[:-1], sizes[1:])]\n",
    "    the_biases = [rng.uniform(-0.01,0.01, (a,))\n",
    "                   for a in sizes[1:]]\n",
    "    #print(the_biases[-2][1])\n",
    "    the_biases[-2][1] -= space[i]#i * 0.0001\n",
    "\n",
    "    regions = tools.count_regions_2d_2(the_weights[:-1], the_biases[:-1], the_weights[-1], the_biases[-1],\n",
    "                                fn_weight, fn_bias, return_regions=True)\n",
    "    new_regions = []\n",
    "    centroids = np.array([calculate_polygon_centroid(r.vertices)\n",
    "                          for r in regions])\n",
    "    if last_centroids is not None:\n",
    "        dists = ((centroids[:, :, None] - last_centroids.T[None, :, :])**2).sum(1)\n",
    "        closest = dists.argmin(1)\n",
    "        colors = last_colors[closest]\n",
    "        bc = np.bincount(closest)\n",
    "        nz = np.nonzero(bc > 1)[0]\n",
    "        for n in nz:\n",
    "            colors[closest==n] = np.concatenate(\n",
    "                [colors[closest==n][0][None, :],\n",
    "                 cmap(rng2.uniform(0,1, bc[n]-1))])\n",
    "    else:\n",
    "        colors = cmap(rng2.uniform(0,1, len(regions)))\n",
    "    last_colors = colors\n",
    "    last_centroids = centroids\n",
    "    export.append([np.float32(colors).tolist(), [np.float32(r.vertices).tolist() for r in regions]])\n",
    "    if i == 0 or i == N-1:\n",
    "        for r, c in zip(regions, colors):\n",
    "            pp.fill(*zip(*r.vertices), c=c, alpha=0.25)\n",
    "        pp.scatter(centroids[:, 0], centroids[:, 1])\n",
    "        pp.show()"
   ]
  },
  {
   "cell_type": "code",
   "execution_count": 170,
   "metadata": {},
   "outputs": [],
   "source": [
    "import json\n",
    "with open('anim_last_layer_bias.json', 'w') as f:\n",
    "    f.write(json.dumps(export))\n",
    "#import pickle\n",
    "#pickle.dump(export, open('test.pkl', 'wb'))"
   ]
  },
  {
   "cell_type": "code",
   "execution_count": 25,
   "metadata": {},
   "outputs": [
    {
     "name": "stdout",
     "output_type": "stream",
     "text": [
      "-0.23483492837236963\n"
     ]
    },
    {
     "data": {
      "image/png": "[encoded data removed]",
      "text/plain": [
       "<Figure size 432x288 with 1 Axes>"
      ]
     },
     "metadata": {},
     "output_type": "display_data"
    },
    {
     "name": "stdout",
     "output_type": "stream",
     "text": [
      "-0.24155761744799986\n",
      "-0.24828030652363015\n",
      "-0.2550029955992604\n",
      "-0.26172568467489066\n",
      "-0.2684483737505209\n",
      "-0.2751710628261511\n",
      "-0.2818937519017814\n",
      "-0.2886164409774116\n",
      "-0.2953391300530419\n",
      "-0.3020618191286722\n",
      "-0.3087845082043024\n",
      "-0.31550719727993265\n",
      "-0.32222988635556293\n",
      "-0.32895257543119316\n",
      "-0.33567526450682345\n",
      "-0.3423979535824537\n",
      "-0.3491206426580839\n",
      "-0.3558433317337142\n",
      "-0.36256602080934447\n",
      "-0.3692887098849747\n",
      "-0.3760113989606049\n",
      "-0.38273408803623515\n",
      "-0.38945677711186544\n",
      "-0.3961794661874957\n",
      "-0.40290215526312595\n",
      "-0.4096248443387562\n",
      "-0.41634753341438646\n",
      "-0.4230702224900167\n",
      "-0.429792911565647\n",
      "-0.4365156006412772\n",
      "-0.44323828971690743\n",
      "-0.4499609787925377\n",
      "-0.456683667868168\n",
      "-0.4634063569437982\n",
      "-0.47012904601942845\n",
      "-0.47685173509505874\n",
      "-0.48357442417068897\n",
      "-0.49029711324631925\n",
      "-0.4970198023219495\n",
      "-0.5037424913975798\n",
      "-0.51046518047321\n",
      "-0.5171878695488402\n",
      "-0.5239105586244704\n",
      "-0.5306332477001007\n",
      "-0.5373559367757309\n",
      "-0.5440786258513611\n",
      "-0.5508013149269915\n",
      "-0.5575240040026217\n",
      "-0.5642466930782519\n",
      "-0.5709693821538823\n",
      "-0.5776920712295125\n",
      "-0.5844147603051427\n",
      "-0.591137449380773\n",
      "-0.5978601384564032\n",
      "-0.6045828275320334\n",
      "-0.6113055166076636\n",
      "-0.618028205683294\n",
      "-0.6247508947589242\n",
      "-0.6314735838345545\n",
      "-0.6381962729101848\n",
      "-0.644918961985815\n",
      "-0.6516416510614452\n",
      "-0.6583643401370755\n",
      "-0.6650870292127057\n",
      "-0.6718097182883359\n",
      "-0.6785324073639663\n",
      "-0.6852550964395965\n",
      "-0.6919777855152268\n",
      "-0.698700474590857\n",
      "-0.7054231636664873\n",
      "-0.7121458527421175\n",
      "-0.7188685418177477\n",
      "-0.725591230893378\n",
      "-0.7323139199690082\n",
      "-0.7390366090446384\n",
      "-0.7457592981202689\n",
      "-0.7524819871958991\n",
      "-0.7592046762715293\n",
      "-0.7659273653471595\n",
      "-0.7726500544227898\n",
      "-0.77937274349842\n",
      "-0.7860954325740502\n",
      "-0.7928181216496805\n",
      "-0.7995408107253107\n",
      "-0.8062634998009411\n",
      "-0.8129861888765714\n",
      "-0.8197088779522016\n",
      "-0.8264315670278318\n",
      "-0.833154256103462\n",
      "-0.8398769451790923\n",
      "-0.8465996342547225\n",
      "-0.8533223233303527\n",
      "-0.860045012405983\n",
      "-0.8667677014816134\n",
      "-0.8734903905572436\n",
      "-0.8802130796328739\n",
      "-0.8869357687085041\n",
      "-0.8936584577841343\n",
      "-0.9003811468597646\n",
      "-0.9071038359353948\n",
      "-0.913826525011025\n",
      "-0.9205492140866552\n",
      "-0.9272719031622857\n",
      "-0.9339945922379159\n",
      "-0.9407172813135461\n",
      "-0.9474399703891764\n",
      "-0.9541626594648066\n",
      "-0.9608853485404368\n",
      "-0.9676080376160671\n",
      "-0.9743307266916973\n",
      "-0.9810534157673275\n",
      "-0.9877761048429577\n",
      "-0.9944987939185882\n",
      "-1.0012214829942185\n",
      "-1.0079441720698488\n",
      "-1.014666861145479\n",
      "-1.0213895502211092\n",
      "-1.0281122392967394\n",
      "-1.0348349283723697\n"
     ]
    },
    {
     "data": {
      "image/png": "[encoded data removed]",
      "text/plain": [
       "<Figure size 432x288 with 1 Axes>"
      ]
     },
     "metadata": {},
     "output_type": "display_data"
    }
   ],
   "source": [
    "import matplotlib.pyplot as pp\n",
    "import matplotlib.cm as cm\n",
    "fn_weight = np.array(([-1,1], [1,1]))\n",
    "fn_bias = np.array([0,0])\n",
    "sizes = [2, 4, 4, 4, 4]\n",
    "\n",
    "last_regions = []\n",
    "last_centroids = None\n",
    "\n",
    "rng2 = np.random.default_rng(43)\n",
    "\n",
    "export = []\n",
    "\n",
    "N = 120\n",
    "space = np.linspace(0.2, 1, N)\n",
    "\n",
    "for i in range(N):\n",
    "\n",
    "    rng = np.random.default_rng(42)\n",
    "    cmap = cm.brg\n",
    "\n",
    "    the_weights = [rng.uniform(-0.1,0.1, (a,b))\n",
    "                   for a,b in zip(sizes[:-1], sizes[1:])]\n",
    "    the_biases = [rng.uniform(-0.01,0.01, (a,))\n",
    "                   for a in sizes[1:]]\n",
    "    #print(the_biases[-2][1])\n",
    "    #the_biases[-2][1] -= space[i]#i * 0.0001\n",
    "    the_weights[-2][2,0] -= space[i]#i * 0.0001\n",
    "    print(the_weights[-2][2,0])\n",
    "\n",
    "    regions = tools.count_regions_2d_2(the_weights[:-1], the_biases[:-1], the_weights[-1], the_biases[-1],\n",
    "                                fn_weight, fn_bias, return_regions=True)\n",
    "    new_regions = []\n",
    "    centroids = np.array([calculate_polygon_centroid(r.vertices)\n",
    "                          for r in regions])\n",
    "    if last_centroids is not None:\n",
    "        dists = ((centroids[:, :, None] - last_centroids.T[None, :, :])**2).sum(1)\n",
    "        closest = dists.argmin(1)\n",
    "        colors = last_colors[closest]\n",
    "        bc = np.bincount(closest)\n",
    "        nz = np.nonzero(bc > 1)[0]\n",
    "        for n in nz:\n",
    "            colors[closest==n] = np.concatenate(\n",
    "                [colors[closest==n][0][None, :],\n",
    "                 cmap(rng2.uniform(0,1, bc[n]-1))])\n",
    "    else:\n",
    "        colors = cmap(rng2.uniform(0,1, len(regions)))\n",
    "    last_colors = colors\n",
    "    last_centroids = centroids\n",
    "    export.append([np.float32(colors).tolist(), [np.float32(r.vertices).tolist() for r in regions]])\n",
    "    if i == 0 or i == N-1:\n",
    "        for r, c in zip(regions, colors):\n",
    "            pp.fill(*zip(*r.vertices), c=c, alpha=0.25)\n",
    "        pp.scatter(centroids[:, 0], centroids[:, 1])\n",
    "        pp.show()"
   ]
  },
  {
   "cell_type": "code",
   "execution_count": 26,
   "metadata": {},
   "outputs": [],
   "source": [
    "import json\n",
    "with open('anim_last_layer_weight.json', 'w') as f:\n",
    "    f.write(json.dumps(export))\n",
    "#import pickle\n",
    "#pickle.dump(export, open('test.pkl', 'wb'))"
   ]
  },
  {
   "cell_type": "code",
   "execution_count": 4,
   "metadata": {},
   "outputs": [],
   "source": [
    "# https://github.com/pwcazenave/pml-git/blob/master/python/centroids.py\n",
    "\n",
    "def calculate_polygon_area(polygon, signed=False):\n",
    "    P = np.array(polygon)\n",
    "    # Extract x and y coordinates\n",
    "    x = P[:, 0]\n",
    "    y = P[:, 1]\n",
    "\n",
    "    # Area calculation\n",
    "    a = x[:-1] * y[1:]\n",
    "    b = y[:-1] * x[1:]\n",
    "    A = np.sum(a - b) / 2.\n",
    "\n",
    "    # Return signed or unsigned area\n",
    "    if signed:\n",
    "        return A\n",
    "    else:\n",
    "        return abs(A)\n",
    "\n",
    "\n",
    "def calculate_polygon_centroid(polygon):\n",
    "    P = np.array(polygon)\n",
    "    P = np.concatenate([P, P[:1, :]], 0)\n",
    "    \n",
    "    # Get area - needed to compute centroid\n",
    "    A = calculate_polygon_area(P, signed=True)\n",
    "\n",
    "    # Extract x and y coordinates\n",
    "    x = P[:, 0]\n",
    "    y = P[:, 1]\n",
    "\n",
    "    # Exercise: Compute C as shown in http://paulbourke.net/geometry/polyarea\n",
    "    a = x[:-1] * y[1:]\n",
    "    b = y[:-1] * x[1:]\n",
    "\n",
    "    cx = x[:-1] + x[1:]\n",
    "    cy = y[:-1] + y[1:]\n",
    "\n",
    "    Cx = np.sum(cx * (a - b)) / (6. * A)\n",
    "    Cy = np.sum(cy * (a - b)) / (6. * A)\n",
    "\n",
    "    # Create Nx2 array and return\n",
    "    C = np.array([Cx, Cy])\n",
    "    return C"
   ]
  },
  {
   "cell_type": "code",
   "execution_count": 122,
   "metadata": {},
   "outputs": [
    {
     "name": "stdout",
     "output_type": "stream",
     "text": [
      "[1 6]\n"
     ]
    }
   ],
   "source": [
    "z = np.int32([1,1,2,3,4,5,6,6])\n",
    "nz = np.nonzero(np.bincount(z) > 1)[0]\n",
    "print(nz)\n",
    "for i in nz:\n",
    "    z[z==i][1:] = "
   ]
  },
  {
   "cell_type": "code",
   "execution_count": 28,
   "metadata": {},
   "outputs": [
    {
     "name": "stdout",
     "output_type": "stream",
     "text": [
      "tensor([ 1.0000,  8.4000, 10.5000,  6.0000,  0.5000,  0.8400])\n"
     ]
    }
   ],
   "source": [
    "import torch\n",
    "a = torch.tensor([0.5, 0.1], requires_grad=True)\n",
    "b = torch.tensor([0.1, 0.42], requires_grad=True)\n",
    "c = torch.tensor([1.1, 2.0], requires_grad=True)\n",
    "\n",
    "x = torch.tensor([10, 20.0])\n",
    "\n",
    "ha = a * x\n",
    "hb = b * ha\n",
    "lb = hb.sum()\n",
    "\n",
    "hb = b * ha.detach() # instead, some_magic(hb)\n",
    "hc = c * hb\n",
    "lc = hc.sum()\n",
    "\n",
    "(lb + lc).backward()\n",
    "print(torch.cat([i.grad for i in [a,b,c]]))\n",
    "\n",
    "ha = a * x\n",
    "hb = b * ha\n",
    "lb = hb.sum()\n",
    "\n",
    "hb = someb * ha.detach()\n",
    "hc = c * hb\n",
    "lc = hc.sum()\n",
    "\n",
    "(lb + lc).backward()\n",
    "print(torch.cat([i.grad for i in [a,b,c]]))"
   ]
  },
  {
   "cell_type": "code",
   "execution_count": 77,
   "metadata": {},
   "outputs": [],
   "source": [
    "class A(torch.nn.Module):\n",
    "    def __init__(self):\n",
    "        super().__init__()\n",
    "        self.w = torch.ones(2, requires_grad=True)\n",
    "        \n",
    "    def test(self, mod, grad_inputs, grad_outputs):\n",
    "        print('test', mod, grad_inputs, grad_outputs)\n",
    "        #print(grad_outputs[0].mark)\n",
    "        self.qq = grad_outputs[0]\n",
    "        return None\n",
    "        \n",
    "    def forward(self, x):\n",
    "        return x * self.w\n",
    "\n",
    "a = A()"
   ]
  },
  {
   "cell_type": "code",
   "execution_count": 78,
   "metadata": {},
   "outputs": [
    {
     "data": {
      "text/plain": [
       "<torch.utils.hooks.RemovableHandle at 0x7fcf223fd400>"
      ]
     },
     "execution_count": 78,
     "metadata": {},
     "output_type": "execute_result"
    }
   ],
   "source": [
    "a.register_backward_hook(a.test)"
   ]
  },
  {
   "cell_type": "code",
   "execution_count": 79,
   "metadata": {},
   "outputs": [],
   "source": [
    "\n",
    "asd = torch.tensor(1.0)\n",
    "asd.mark = 32"
   ]
  },
  {
   "cell_type": "code",
   "execution_count": 87,
   "metadata": {},
   "outputs": [
    {
     "name": "stdout",
     "output_type": "stream",
     "text": [
      "test A() (tensor([1.0400, 1.0400], grad_fn=<MulBackward0>), tensor([0.1040, 0.4368], grad_fn=<MulBackward0>)) (tensor([1.0400, 1.0400], grad_fn=<ExpandBackward>),)\n"
     ]
    }
   ],
   "source": [
    "b = torch.tensor([0.1, 0.42], requires_grad=True)\n",
    "a(b).sum().pow(2).backward(asd, create_graph=True)"
   ]
  },
  {
   "cell_type": "code",
   "execution_count": 81,
   "metadata": {},
   "outputs": [
    {
     "data": {
      "text/plain": [
       "tensor([1., 1.])"
      ]
     },
     "execution_count": 81,
     "metadata": {},
     "output_type": "execute_result"
    }
   ],
   "source": [
    "b.grad"
   ]
  },
  {
   "cell_type": "code",
   "execution_count": 96,
   "metadata": {
    "scrolled": false
   },
   "outputs": [],
   "source": [
    "l = torch.nn.Sequential(torch.nn.Linear(32, 12), torch.nn.Linear(12, 16))"
   ]
  },
  {
   "cell_type": "code",
   "execution_count": 98,
   "metadata": {},
   "outputs": [
    {
     "data": {
      "text/plain": [
       "Linear(in_features=12, out_features=16, bias=True)"
      ]
     },
     "execution_count": 98,
     "metadata": {},
     "output_type": "execute_result"
    }
   ],
   "source": [
    "l[1]"
   ]
  }
 ],
 "metadata": {
  "kernelspec": {
   "display_name": "Python 3",
   "language": "python",
   "name": "python3"
  },
  "language_info": {
   "codemirror_mode": {
    "name": "ipython",
    "version": 3
   },
   "file_extension": ".py",
   "mimetype": "text/x-python",
   "name": "python",
   "nbconvert_exporter": "python",
   "pygments_lexer": "ipython3",
   "version": "3.6.5"
  }
 },
 "nbformat": 4,
 "nbformat_minor": 2
}
